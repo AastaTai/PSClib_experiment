{
 "cells": [
  {
   "cell_type": "markdown",
   "metadata": {},
   "source": [
    "kmeans\n",
    "dataset's batch 20\n",
    "data's batch 50"
   ]
  },
  {
   "cell_type": "code",
   "execution_count": null,
   "metadata": {},
   "outputs": [],
   "source": [
    "import pandas as pd\n",
    "import matplotlib.pyplot as plt\n",
    "import numpy as np\n",
    "import torch.nn as nn\n",
    "import sklearn\n",
    "from sklearn import metrics\n",
    "from sklearn.cluster import KMeans\n",
    "from psc_firework import PSC\n",
    "import time\n",
    "import torch\n",
    "import random\n",
    "\n",
    "torch.manual_seed(0)\n",
    "np.random.seed(0)\n",
    "random.seed(0)\n",
    "\n",
    "df = pd.read_csv('firework.csv')\n",
    "print(df.head(10))\n",
    "action = {'allow': 1, 'deny': 2, 'drop': 3, 'reset-both': 4}\n",
    "df['Action'] = df['Action'].map(action)\n",
    "y = df['Action'].values\n",
    "print(y)\n",
    "x_data = df.drop(['Action'], axis = 1).values\n",
    "# x_data = df.drop(['Action', 'Elapsed Time (sec)', 'pkts_sent', 'pkts_received'], axis = 1).values\n",
    "print(x_data)\n",
    "print(\"x_data type\", type(x_data))\n",
    "print(\"y type\", type(y))\n",
    "print(\"x_data shape\", x_data.shape)\n",
    "print(\"y shape\", y.shape)\n",
    "\n",
    "scaler = sklearn.preprocessing.StandardScaler().fit(x_data)\n",
    "x = scaler.transform(x_data)\n",
    "# x = (x_data - np.min(x_data)) / (np.max(x_data) - np.min(x_data))\n",
    "print(x)\n",
    "print(\"x shape \", x.shape)\n",
    "\n",
    "class Net1(nn.Module):\n",
    "    def __init__(self, out):\n",
    "        super(Net1, self).__init__()\n",
    "        self.output = out\n",
    "        # Define the layers\n",
    "        self.fc1 = nn.Linear(8, 32)\n",
    "        self.fc2 = nn.Linear(32, 64)\n",
    "        self.fc3 = nn.Linear(64, 32)\n",
    "        self.output_layer = nn.Linear(32, self.output)\n",
    "\n",
    "        self.relu = nn.ReLU()\n",
    "\n",
    "    def forward(self, x):\n",
    "\n",
    "        x = self.fc1(x)\n",
    "        x = self.fc2(x)\n",
    "        x = self.fc3(x)\n",
    "        x = self.output_layer(x)\n",
    "        return x\n"
   ]
  },
  {
   "cell_type": "code",
   "execution_count": null,
   "metadata": {},
   "outputs": [],
   "source": [
    "silhouette_avg_kmeans = []\n",
    "calinski_harabasz_kmeans = []\n",
    "homogeneity_kmeans = []\n",
    "v_measure_kmeans = []\n",
    "# Davies-Boulding\n",
    "for i in range(2, 22, 2):\n",
    "    print(f\"n_clusters = {i}\")\n",
    "    model = Net1(out=i)\n",
    "    kmeans = KMeans(n_clusters=4, init='random', n_init='auto', algorithm='elkan')\n",
    "    time1 = round(time.time()*1000)\n",
    "    x_fit_kmeans = kmeans.fit(x)\n",
    "    x_predict_kmeans = kmeans.predict(x)\n",
    "    time2 = round(time.time()*1000)\n",
    "    print(f\"PSC time spent: {time2 - time1} milliseconds\")\n",
    "    silhouette_avg_kmeans.append(metrics.silhouette_score(x, x_fit_kmeans.labels_))\n",
    "    print(f\"silhouette_avg: {silhouette_avg_kmeans[-1]}\")\n",
    "    calinski_harabasz_kmeans.append(metrics.calinski_harabasz_score(x, x_fit_kmeans.labels_))\n",
    "    print(f\"calinski_harabasz: {calinski_harabasz_kmeans[-1]}\")\n",
    "    homogeneity_kmeans.append(metrics.homogeneity_score(y, x_predict_kmeans))\n",
    "    print(f\"homogeneity: {homogeneity_kmeans[-1]}\")\n",
    "    v_measure_kmeans.append(metrics.v_measure_score(y, x_predict_kmeans))\n",
    "    print(f\"v_measure: {v_measure_kmeans[-1]}\\n\")"
   ]
  },
  {
   "cell_type": "code",
   "execution_count": null,
   "metadata": {},
   "outputs": [],
   "source": [
    "print(silhouette_avg_kmeans)\n",
    "plt.title(\"silhouette_avg_kmeans\")\n",
    "plt.xlabel(\"n_clusters\")\n",
    "xx = [0, 2, 4, 6, 8, 10, 12, 14, 16, 18, 20]\n",
    "silhouette_avg_kmeans.insert(0, 0)\n",
    "plt.xticks(ticks=range(0, 11), labels=xx)\n",
    "plt.plot(silhouette_avg_kmeans)"
   ]
  },
  {
   "cell_type": "code",
   "execution_count": null,
   "metadata": {},
   "outputs": [],
   "source": [
    "print(calinski_harabasz_kmeans)\n",
    "plt.title(\"calinski_harabasz_kmeans\")\n",
    "plt.xlabel(\"n_clusters\")\n",
    "xx = [0, 2, 4, 6, 8, 10, 12, 14, 16, 18, 20]\n",
    "calinski_harabasz_kmeans.insert(0, 0)\n",
    "plt.xticks(ticks=range(0, 11), labels=xx)\n",
    "plt.plot(calinski_harabasz_kmeans)"
   ]
  },
  {
   "cell_type": "code",
   "execution_count": null,
   "metadata": {},
   "outputs": [],
   "source": [
    "print(homogeneity_kmeans)\n",
    "plt.title(\"homogeneity_kmeans\")\n",
    "plt.xlabel(\"n_clusters\")\n",
    "xx = [0, 2, 4, 6, 8, 10, 12, 14, 16, 18, 20]\n",
    "homogeneity_kmeans.insert(0, 0)\n",
    "plt.xticks(ticks=range(0, 11), labels=xx)\n",
    "plt.plot(homogeneity_kmeans)"
   ]
  },
  {
   "cell_type": "code",
   "execution_count": null,
   "metadata": {},
   "outputs": [],
   "source": [
    "print(v_measure_kmeans)\n",
    "plt.title(\"v_measure_kmeans\")\n",
    "plt.xlabel(\"n_clusters\")\n",
    "xx = [0, 2, 4, 6, 8, 10, 12, 14, 16, 18, 20]\n",
    "v_measure_kmeans.insert(0, 0)\n",
    "plt.xticks(ticks=range(0, 11), labels=xx)\n",
    "plt.plot(v_measure_kmeans)"
   ]
  },
  {
   "cell_type": "code",
   "execution_count": null,
   "metadata": {},
   "outputs": [],
   "source": [
    "print('Intrinsic measures')\n",
    "Silhouette_Score=metrics.silhouette_score(x, x_fit_kmeans.labels_, metric = 'euclidean')\n",
    "print('Silhouette Score:',Silhouette_Score)\n",
    "\n",
    "CH_score = metrics.calinski_harabasz_score(x, x_fit_kmeans.labels_)\n",
    "print('Calinski Harabasz Score:',CH_score)\n",
    "print('-----------------------------------------------')\n",
    "print('Extrinsic measures')\n",
    "H_Score=metrics.homogeneity_score(y, x_predict_kmeans)\n",
    "print('homogeneity_score:',H_Score)\n",
    "\n",
    "v_measure_score=metrics.v_measure_score(y, x_predict_kmeans)\n",
    "print('v_measure_score:',v_measure_score)"
   ]
  }
 ],
 "metadata": {
  "kernelspec": {
   "display_name": "psc_experiment",
   "language": "python",
   "name": "python3"
  },
  "language_info": {
   "codemirror_mode": {
    "name": "ipython",
    "version": 3
   },
   "file_extension": ".py",
   "mimetype": "text/x-python",
   "name": "python",
   "nbconvert_exporter": "python",
   "pygments_lexer": "ipython3",
   "version": "3.8.18"
  }
 },
 "nbformat": 4,
 "nbformat_minor": 2
}
