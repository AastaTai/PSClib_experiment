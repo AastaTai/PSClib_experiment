{
 "cells": [
  {
   "cell_type": "markdown",
   "metadata": {},
   "source": [
    "Kmeans dataloader's batch 20 & data's batch 50"
   ]
  },
  {
   "cell_type": "code",
   "execution_count": 1,
   "metadata": {},
   "outputs": [
    {
     "name": "stdout",
     "output_type": "stream",
     "text": [
      "<class 'pandas.core.frame.DataFrame'>\n",
      "RangeIndex: 67557 entries, 0 to 67556\n",
      "Data columns (total 43 columns):\n",
      " #   Column  Non-Null Count  Dtype \n",
      "---  ------  --------------  ----- \n",
      " 0   a1      67557 non-null  object\n",
      " 1   a2      67557 non-null  object\n",
      " 2   a3      67557 non-null  object\n",
      " 3   a4      67557 non-null  object\n",
      " 4   a5      67557 non-null  object\n",
      " 5   a6      67557 non-null  object\n",
      " 6   b1      67557 non-null  object\n",
      " 7   b2      67557 non-null  object\n",
      " 8   b3      67557 non-null  object\n",
      " 9   b4      67557 non-null  object\n",
      " 10  b5      67557 non-null  object\n",
      " 11  b6      67557 non-null  object\n",
      " 12  c1      67557 non-null  object\n",
      " 13  c2      67557 non-null  object\n",
      " 14  c3      67557 non-null  object\n",
      " 15  c4      67557 non-null  object\n",
      " 16  c5      67557 non-null  object\n",
      " 17  c6      67557 non-null  object\n",
      " 18  d1      67557 non-null  object\n",
      " 19  d2      67557 non-null  object\n",
      " 20  d3      67557 non-null  object\n",
      " 21  d4      67557 non-null  object\n",
      " 22  d5      67557 non-null  object\n",
      " 23  d6      67557 non-null  object\n",
      " 24  e1      67557 non-null  object\n",
      " 25  e2      67557 non-null  object\n",
      " 26  e3      67557 non-null  object\n",
      " 27  e4      67557 non-null  object\n",
      " 28  e5      67557 non-null  object\n",
      " 29  e6      67557 non-null  object\n",
      " 30  f1      67557 non-null  object\n",
      " 31  f2      67557 non-null  object\n",
      " 32  f3      67557 non-null  object\n",
      " 33  f4      67557 non-null  object\n",
      " 34  f5      67557 non-null  object\n",
      " 35  f6      67557 non-null  object\n",
      " 36  g1      67557 non-null  object\n",
      " 37  g2      67557 non-null  object\n",
      " 38  g3      67557 non-null  object\n",
      " 39  g4      67557 non-null  object\n",
      " 40  g5      67557 non-null  object\n",
      " 41  g6      67557 non-null  object\n",
      " 42  class   67557 non-null  object\n",
      "dtypes: object(43)\n",
      "memory usage: 22.2+ MB\n",
      "None\n",
      "     a1    a2    a3    a4    a5    a6    b1    b2    b3    b4  ...    f4  \\\n",
      "0  b'0'  b'0'  b'0'  b'0'  b'0'  b'0'  b'0'  b'0'  b'0'  b'0'  ...  b'0'   \n",
      "1  b'0'  b'0'  b'0'  b'0'  b'0'  b'0'  b'0'  b'0'  b'0'  b'0'  ...  b'0'   \n",
      "2  b'0'  b'0'  b'0'  b'0'  b'0'  b'0'  b'1'  b'0'  b'0'  b'0'  ...  b'0'   \n",
      "3  b'0'  b'0'  b'0'  b'0'  b'0'  b'0'  b'0'  b'0'  b'0'  b'0'  ...  b'0'   \n",
      "4  b'1'  b'0'  b'0'  b'0'  b'0'  b'0'  b'0'  b'0'  b'0'  b'0'  ...  b'0'   \n",
      "\n",
      "     f5    f6    g1    g2    g3    g4    g5    g6 class  \n",
      "0  b'0'  b'0'  b'0'  b'0'  b'0'  b'0'  b'0'  b'0'  b'2'  \n",
      "1  b'0'  b'0'  b'0'  b'0'  b'0'  b'0'  b'0'  b'0'  b'2'  \n",
      "2  b'0'  b'0'  b'0'  b'0'  b'0'  b'0'  b'0'  b'0'  b'2'  \n",
      "3  b'0'  b'0'  b'0'  b'0'  b'0'  b'0'  b'0'  b'0'  b'2'  \n",
      "4  b'0'  b'0'  b'0'  b'0'  b'0'  b'0'  b'0'  b'0'  b'2'  \n",
      "\n",
      "[5 rows x 43 columns]\n",
      "[b'2' b'2' b'2' ... b'1' b'0' b'0']\n",
      "y shape  (67557,)\n",
      "[[-1.1489455  -0.68935749 -0.44059822 ... -0.21230205 -0.10620067\n",
      "  -0.03504674]\n",
      " [-1.1489455  -0.68935749 -0.44059822 ... -0.21230205 -0.10620067\n",
      "  -0.03504674]\n",
      " [-1.1489455  -0.68935749 -0.44059822 ... -0.21230205 -0.10620067\n",
      "  -0.03504674]\n",
      " ...\n",
      " [ 1.24575142  1.87512071 -0.44059822 ...  2.82186123 -0.10620067\n",
      "  -0.03504674]\n",
      " [ 1.24575142  0.59288161 -0.44059822 ...  5.85602451 12.25314298\n",
      "  -0.03504674]\n",
      " [ 1.24575142  0.59288161  1.19729831 ... -0.21230205 -0.10620067\n",
      "  -0.03504674]]\n",
      "x shape  (67557, 42)\n"
     ]
    }
   ],
   "source": [
    "import pandas as pd\n",
    "import matplotlib.pyplot as plt\n",
    "import numpy as np\n",
    "import torch.nn as nn\n",
    "import sklearn\n",
    "from sklearn import metrics\n",
    "from sklearn.cluster import KMeans, SpectralClustering\n",
    "from psc import PSC, Accuracy\n",
    "import time\n",
    "import torch\n",
    "import random\n",
    "import warnings\n",
    "from scipy.io import arff\n",
    "import os\n",
    "\n",
    "warnings.filterwarnings(\"ignore\")\n",
    "\n",
    "torch.manual_seed(0)\n",
    "np.random.seed(0)\n",
    "random.seed(0)\n",
    "os.environ[\"PYTHONHASHSEED\"] = str(0)\n",
    "\n",
    "data = arff.loadarff('connect-4.arff')\n",
    "df = pd.DataFrame(data[0])\n",
    "# df['class'] = df['class'].astype(int)\n",
    "print(df.info())\n",
    "print(df.head(5))\n",
    "\n",
    "y = df['class'].values\n",
    "print(y)\n",
    "print(\"y shape \", y.shape)\n",
    "x_data = df.drop(['class'], axis = 1).values\n",
    "\n",
    "scaler = sklearn.preprocessing.StandardScaler().fit(x_data)\n",
    "x = scaler.transform(x_data)\n",
    "print(x)\n",
    "print(\"x shape \", x.shape)\n",
    "\n",
    "class Net1(nn.Module):\n",
    "    def __init__(self, out):\n",
    "        super(Net1, self).__init__()\n",
    "        self.output = out\n",
    "        # Define the layers\n",
    "        self.fc1 = nn.Linear(42, 64)\n",
    "        self.fc2 = nn.Linear(64, 128)\n",
    "        self.fc3 = nn.Linear(128, 64)\n",
    "        self.output_layer = nn.Linear(64, self.output)\n",
    "\n",
    "        self.relu = nn.ReLU()\n",
    "\n",
    "    def forward(self, x):\n",
    "\n",
    "        x = self.fc1(x)\n",
    "        x = self.fc2(x)\n",
    "        x = self.fc3(x)\n",
    "        x = self.output_layer(x)\n",
    "        return x"
   ]
  },
  {
   "cell_type": "code",
   "execution_count": 3,
   "metadata": {},
   "outputs": [
    {
     "name": "stdout",
     "output_type": "stream",
     "text": [
      "<function check_random_state at 0x000002C7C01B9160>\n"
     ]
    }
   ],
   "source": [
    "from sklearn.utils import check_random_state\n",
    "\n",
    "print(check_random_state)"
   ]
  },
  {
   "cell_type": "code",
   "execution_count": 17,
   "metadata": {},
   "outputs": [
    {
     "name": "stdout",
     "output_type": "stream",
     "text": [
      "n_clusters = 3\n",
      "Kmeans time spent: 462 milliseconds\n",
      "Clustering Accuracy: 0.4349216217416404\n",
      "Adjusted rand index: -0.00496534705809938\n",
      "Adjusted mutual information: 0.00044660561474439665\n"
     ]
    }
   ],
   "source": [
    "i = 3\n",
    "print(f\"n_clusters = {i}\")\n",
    "model = Net1(out=i)\n",
    "kmeans = KMeans(n_clusters=i, init='random', n_init='auto', algorithm='elkan')\n",
    "time1 = round(time.time()*1000)\n",
    "x_fit_kmeans = kmeans.fit(x)\n",
    "x_predict_kmeans = kmeans.predict(x)\n",
    "time2 = round(time.time()*1000)\n",
    "print(f\"Kmeans time spent: {time2 - time1} milliseconds\")\n",
    "\n",
    "# print(f\"silhouette: {metrics.silhouette_score(x, x_fit_kmeans.labels_)}\")\n",
    "# print(f\"calinski_harabasz: {metrics.calinski_harabasz_score(x, x_fit_kmeans.labels_)}\")\n",
    "# print(f\"homogeneity: {metrics.homogeneity_score(y, x_predict_kmeans)}\")\n",
    "# print(f\"v_measure: {metrics.v_measure_score(y, x_predict_kmeans)}\\n\")\n",
    "acc = Accuracy(y_true=y, y_pred=x_predict_kmeans)\n",
    "acc.acc_report()"
   ]
  },
  {
   "cell_type": "markdown",
   "metadata": {},
   "source": [
    "SC"
   ]
  },
  {
   "cell_type": "code",
   "execution_count": 4,
   "metadata": {},
   "outputs": [
    {
     "name": "stdout",
     "output_type": "stream",
     "text": [
      "n_clusters = 3\n"
     ]
    }
   ],
   "source": [
    "i = 3\n",
    "print(f\"n_clusters = {i}\")\n",
    "model = Net1(out=i)\n",
    "sc = SpectralClustering(n_clusters=i)\n",
    "time1 = round(time.time()*1000)\n",
    "x_predict_sc = sc.fit_predict(x)\n",
    "time2 = round(time.time()*1000)\n",
    "print(f\"SC time spent: {time2 - time1} milliseconds\")\n",
    "\n",
    "# x_fit_sc = sc.fit(x)\n",
    "# print(f\"silhouette: {metrics.silhouette_score(x, x_fit_sc.labels_)}\")\n",
    "# print(f\"calinski_harabasz: {metrics.calinski_harabasz_score(x, x_fit_sc.labels_)}\")\n",
    "# print(f\"homogeneity: {metrics.homogeneity_score(y, x_predict_sc)}\")\n",
    "# print(f\"v_measure: {metrics.v_measure_score(y, x_predict_sc)}\\n\")\n",
    "acc = Accuracy(y_true=y, y_pred=x_predict_sc)\n",
    "acc.acc_report()"
   ]
  }
 ],
 "metadata": {
  "kernelspec": {
   "display_name": "psc",
   "language": "python",
   "name": "python3"
  },
  "language_info": {
   "codemirror_mode": {
    "name": "ipython",
    "version": 3
   },
   "file_extension": ".py",
   "mimetype": "text/x-python",
   "name": "python",
   "nbconvert_exporter": "python",
   "pygments_lexer": "ipython3",
   "version": "3.8.18"
  }
 },
 "nbformat": 4,
 "nbformat_minor": 2
}
